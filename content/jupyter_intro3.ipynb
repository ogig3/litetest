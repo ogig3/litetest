{
 "cells": [
  {
   "cell_type": "markdown",
   "metadata": {},
   "source": [
    "# ipython 入門3"
   ]
  },
  {
   "cell_type": "markdown",
   "metadata": {},
   "source": [
    "## numpy "
   ]
  },
  {
   "cell_type": "markdown",
   "metadata": {},
   "source": [
    "python には __リスト__ のようなデータ型があるのですが，あまり高速ではなく，画像や音声を取り扱う時には効率的ではありません．python でデータを高速に扱いたいときには， ___numpy___ というライブラリがよく使われます．"
   ]
  },
  {
   "cell_type": "markdown",
   "metadata": {},
   "source": [
    "### 読み込み（インポート）"
   ]
  },
  {
   "cell_type": "code",
   "execution_count": null,
   "metadata": {},
   "outputs": [],
   "source": [
    "import numpy as np"
   ]
  },
  {
   "cell_type": "markdown",
   "metadata": {},
   "source": [
    "だいたいどの人も np という名前で使っています．"
   ]
  },
  {
   "cell_type": "markdown",
   "metadata": {},
   "source": [
    "### 配列の生成：手動"
   ]
  },
  {
   "cell_type": "code",
   "execution_count": null,
   "metadata": {
    "collapsed": false,
    "jupyter": {
     "outputs_hidden": false
    }
   },
   "outputs": [],
   "source": [
    "# 1次元\n",
    "a = np.array([0,1,2,3])\n",
    "print( a )\n",
    "print( a.shape )    # a の形状"
   ]
  },
  {
   "cell_type": "code",
   "execution_count": null,
   "metadata": {
    "collapsed": false,
    "jupyter": {
     "outputs_hidden": false
    },
    "scrolled": true
   },
   "outputs": [],
   "source": [
    "# 2次元\n",
    "b = np.array([ [0,1,2], [3,4,5] ])\n",
    "print( b )\n",
    "print( b.shape )"
   ]
  },
  {
   "cell_type": "markdown",
   "metadata": {},
   "source": [
    "このように，配列(array) の中に2個の要素があって，それぞれの要素に 3個の要素が入っているようなもの __2x3 の行列__ のようにいいます．（線形代数はやった？）\n",
    "\n",
    "数学の教科書の\n",
    "\n",
    "$\n",
    "A=\n",
    "\\begin{pmatrix}\n",
    "0 & 1 & 2 \\\\\n",
    "3 & 4 & 5\n",
    "\\end{pmatrix}\n",
    "$\n",
    "\n",
    "に対応します．"
   ]
  },
  {
   "cell_type": "markdown",
   "metadata": {},
   "source": [
    "### 練習1\n",
    "> 以下の行列に対応する numpy の配列を定義してください．\n",
    "\n",
    "$\n",
    "C =\n",
    "\\begin{pmatrix}\n",
    "1 & 2\\\\\n",
    "3 & 4\\\\\n",
    "5 & 6\n",
    "\\end{pmatrix}\n",
    "$"
   ]
  },
  {
   "cell_type": "code",
   "execution_count": null,
   "metadata": {
    "collapsed": false,
    "jupyter": {
     "outputs_hidden": false
    }
   },
   "outputs": [],
   "source": [
    "c = XXXX\n"
   ]
  },
  {
   "cell_type": "markdown",
   "metadata": {},
   "source": [
    "### 配列の生成：関数"
   ]
  },
  {
   "cell_type": "markdown",
   "metadata": {},
   "source": [
    "実際使う時には，一つ一つ要素を入力するということはあまりしません．"
   ]
  },
  {
   "cell_type": "code",
   "execution_count": null,
   "metadata": {
    "collapsed": false,
    "jupyter": {
     "outputs_hidden": false
    }
   },
   "outputs": [],
   "source": [
    "# 順番\n",
    "\n",
    "a = np.arange(10)\n",
    "\n",
    "# 範囲と要素の数\n",
    "b = np.linspace(0, 1, 6)  # start, end, points\n",
    "\n",
    "# 要素がすべて 1\n",
    "c = np.ones((3,3))\n",
    "\n",
    "# 要素がすべて 0\n",
    "d = np.zeros((4,4))\n",
    "\n",
    "print( a )\n",
    "print( b )\n",
    "print( c )\n",
    "print( d )"
   ]
  },
  {
   "cell_type": "markdown",
   "metadata": {},
   "source": [
    "乱数"
   ]
  },
  {
   "cell_type": "code",
   "execution_count": null,
   "metadata": {
    "collapsed": false,
    "jupyter": {
     "outputs_hidden": false
    }
   },
   "outputs": [],
   "source": [
    "# 0-1 の一様乱数４つ\n",
    "a = np.random.rand(4)     # 1 次元\n",
    "\n",
    "b = np.random.randn(3,3)  # 3x3 の行列\n",
    "\n",
    "print( a )\n",
    "print( b )"
   ]
  },
  {
   "cell_type": "markdown",
   "metadata": {},
   "source": [
    "## 基本的な可視化"
   ]
  },
  {
   "cell_type": "markdown",
   "metadata": {},
   "source": [
    "notebook にプロットするためのおまじない（こうしないと他のウィンドウに表示される）"
   ]
  },
  {
   "cell_type": "code",
   "execution_count": null,
   "metadata": {},
   "outputs": [],
   "source": [
    "%matplotlib inline"
   ]
  },
  {
   "cell_type": "markdown",
   "metadata": {},
   "source": [
    "matplotlib というライブラリを plt という名前で使います"
   ]
  },
  {
   "cell_type": "code",
   "execution_count": null,
   "metadata": {},
   "outputs": [],
   "source": [
    "import matplotlib.pyplot as plt"
   ]
  },
  {
   "cell_type": "markdown",
   "metadata": {},
   "source": [
    "### 1次元のデータ"
   ]
  },
  {
   "cell_type": "code",
   "execution_count": null,
   "metadata": {
    "collapsed": false,
    "jupyter": {
     "outputs_hidden": false
    }
   },
   "outputs": [],
   "source": [
    "data = np.array([3,10,2,5,3])\n",
    "plt.plot(data)      # 線"
   ]
  },
  {
   "cell_type": "code",
   "execution_count": null,
   "metadata": {
    "collapsed": false,
    "jupyter": {
     "outputs_hidden": false
    }
   },
   "outputs": [],
   "source": [
    "x = np.linspace(0.0,6.0,20)   # 0 から 6 までの 20 個のデータ\n",
    "y = np.sin(x)                 # x の要素を sin にしたもの\n",
    "\n",
    "plt.plot(x,y)           # 線\n",
    "plt.plot(x,y, 'o')      # ドット"
   ]
  },
  {
   "cell_type": "markdown",
   "metadata": {},
   "source": [
    "### 2次元配列"
   ]
  },
  {
   "cell_type": "code",
   "execution_count": null,
   "metadata": {
    "collapsed": false,
    "jupyter": {
     "outputs_hidden": false
    }
   },
   "outputs": [],
   "source": [
    "image = np.array([ [1,2,3], [1,2,3], [3,2,1] ])\n",
    "plt.imshow(image)"
   ]
  },
  {
   "cell_type": "code",
   "execution_count": null,
   "metadata": {
    "collapsed": false,
    "jupyter": {
     "outputs_hidden": false
    }
   },
   "outputs": [],
   "source": [
    "image = np.random.rand(30, 30)      # 30x30 の２次元データ\n",
    "plt.imshow(image, cmap=plt.cm.hot)  # イメージとしてプロット\n",
    "plt.colorbar()                      # レベルを表示"
   ]
  },
  {
   "cell_type": "markdown",
   "metadata": {},
   "source": [
    "参考：[ここ](http://www.turbare.net/transl/scipy-lecture-notes/intro/matplotlib/matplotlib.html#matplotlib) により詳しいオプションの情報があります．"
   ]
  },
  {
   "cell_type": "markdown",
   "metadata": {},
   "source": [
    "### 練習2\n",
    "\n",
    "> $y=x^2-2x+2$ のグラフを -1 から 2 の範囲で，データ数 30個で描いてください．"
   ]
  },
  {
   "cell_type": "code",
   "execution_count": null,
   "metadata": {
    "collapsed": false,
    "jupyter": {
     "outputs_hidden": false
    },
    "scrolled": true
   },
   "outputs": [],
   "source": [
    "\n",
    "import numpy as np\n",
    "import matplotlib.pyplot as plt\n",
    "\n",
    "\n",
    "\n"
   ]
  },
  {
   "cell_type": "markdown",
   "metadata": {},
   "source": [
    "## インデクスとスライス"
   ]
  },
  {
   "cell_type": "markdown",
   "metadata": {},
   "source": [
    "配列の要素へのアクセスは，基本的にはリストと同じです．"
   ]
  },
  {
   "cell_type": "code",
   "execution_count": null,
   "metadata": {
    "collapsed": false,
    "jupyter": {
     "outputs_hidden": false
    }
   },
   "outputs": [],
   "source": [
    "a = np.arange(10)\n",
    "print( a )\n",
    "print( a[3] )\n",
    "print( a[2:5] )\n",
    "print( a[:-1] )"
   ]
  },
  {
   "cell_type": "code",
   "execution_count": null,
   "metadata": {
    "collapsed": false,
    "jupyter": {
     "outputs_hidden": false
    }
   },
   "outputs": [],
   "source": [
    "b = np.array([ [1,2,3], [4,5,6], [7,8,9] ])\n",
    "print( b )\n",
    "print( b[2,1] )   # 3行2列目\n",
    "print( b[1,:] )   # 2番目の行\n",
    "print( b[:,1] )   # 2番目の列\n"
   ]
  },
  {
   "cell_type": "code",
   "execution_count": null,
   "metadata": {
    "collapsed": false,
    "jupyter": {
     "outputs_hidden": false
    }
   },
   "outputs": [],
   "source": [
    "c = np.array([ [1,2,3,4], [2,3,4,5], [3,4,5,6], [4,5,6,7] ])\n",
    "print c\n",
    "\n",
    "d = c[0:2, 0:2]\n",
    "print( d )\n",
    "\n",
    "e=c[2:,2:]\n",
    "print( e )"
   ]
  },
  {
   "cell_type": "markdown",
   "metadata": {},
   "source": [
    "### 練習3\n",
    "> 上記の行列 c から，以下の行列を作ってください．\n",
    "\n",
    "$\n",
    "\\begin{pmatrix}\n",
    "    5 & 6 \\\\\n",
    "    6 & 7\n",
    "\\end{pmatrix}\n",
    "$"
   ]
  },
  {
   "cell_type": "markdown",
   "metadata": {},
   "source": [
    "スライシングは画像や音声で切り出すときにも便利です．\n",
    "まず練習に使用するための画像をダウンロードしておきます．"
   ]
  },
  {
   "cell_type": "code",
   "execution_count": null,
   "metadata": {},
   "outputs": [],
   "source": [
    "!wget http://ogilab.kutc.kansai-u.ac.jp/downloads/dog.jpg"
   ]
  },
  {
   "cell_type": "markdown",
   "metadata": {},
   "source": [
    "そして，画像を読み込んでみましょう．"
   ]
  },
  {
   "cell_type": "code",
   "execution_count": null,
   "metadata": {
    "collapsed": false,
    "jupyter": {
     "outputs_hidden": false
    }
   },
   "outputs": [],
   "source": [
    "from PIL import Image          # 画像を扱う PIL というパッケージを読み込み\n",
    "\n",
    "image = Image.open(\"dog.jpg\")  # 画像を読み込み\n",
    "npimage = np.asarray(image)    # 画像を numpy の array に変換\n",
    "\n",
    "plt.imshow( npimage)\n",
    "\n",
    "print( npimage.shape )"
   ]
  },
  {
   "cell_type": "markdown",
   "metadata": {},
   "source": [
    "これを見るとわかるように，numpy には画像は 426x640x3 の行列（このような多次元配列を__テンソル__といいます）として読み込まれています．\n",
    "\n",
    "426 x 640 のそれぞれの点について (red, green, blue) の３つのデータがあるということです．"
   ]
  },
  {
   "cell_type": "markdown",
   "metadata": {},
   "source": [
    "### 練習4\n",
    "> 以下のプログラムを改変して，上の画像からスライシングを利用して，犬の顔だけを切り出してください．"
   ]
  },
  {
   "cell_type": "code",
   "execution_count": null,
   "metadata": {
    "collapsed": false,
    "jupyter": {
     "outputs_hidden": false
    }
   },
   "outputs": [],
   "source": [
    "kiritori = XXXX"
   ]
  },
  {
   "cell_type": "markdown",
   "metadata": {},
   "source": [
    "## 真偽値のマスク"
   ]
  },
  {
   "cell_type": "markdown",
   "metadata": {},
   "source": [
    "マスクとは，場所ごとに条件の合致を True, False でラベル付けしたものです．"
   ]
  },
  {
   "cell_type": "code",
   "execution_count": null,
   "metadata": {
    "collapsed": false,
    "jupyter": {
     "outputs_hidden": false
    }
   },
   "outputs": [],
   "source": [
    "a = np.array([2,5,3,12,9,8])\n",
    "\n",
    "b = a>5      # 5 より大きいか，のマスク\n",
    "print( b )\n",
    "c = (a%2==0) # 2 で割り切れるか，のマスク\n",
    "print( c )"
   ]
  },
  {
   "cell_type": "markdown",
   "metadata": {},
   "source": [
    "このマスクを利用すると面白い処理ができます．"
   ]
  },
  {
   "cell_type": "code",
   "execution_count": null,
   "metadata": {
    "collapsed": false,
    "jupyter": {
     "outputs_hidden": false
    }
   },
   "outputs": [],
   "source": [
    "# 抽出\n",
    "print a[b]     # bが True のところだけ出力\n",
    "\n",
    "# 条件に合致するところだけ，変更\n",
    "print( a )\n",
    "a[b]=0         # bが True のところだけ 0 にする\n",
    "print( a )"
   ]
  },
  {
   "cell_type": "markdown",
   "metadata": {},
   "source": [
    "画像で応用してみましょう．"
   ]
  },
  {
   "cell_type": "code",
   "execution_count": null,
   "metadata": {
    "collapsed": false,
    "jupyter": {
     "outputs_hidden": false
    }
   },
   "outputs": [],
   "source": [
    "image = Image.open(\"dog.jpg\").convert('L')  # 画像を白黒で読み込み\n",
    "npimage = np.asarray(image)                 # 画像を numpy の array に変換\n",
    "plt.imshow( npimage, cmap='gray')           # グレースケールで表示"
   ]
  },
  {
   "cell_type": "code",
   "execution_count": null,
   "metadata": {
    "collapsed": false,
    "jupyter": {
     "outputs_hidden": false
    }
   },
   "outputs": [],
   "source": [
    "print( npimage )      # numpy の配列になっています．"
   ]
  },
  {
   "cell_type": "markdown",
   "metadata": {},
   "source": [
    "画像の各要素の値は1byte(=$2^8$bit)で表現されていますので， 0 から 255 の値をとります．"
   ]
  },
  {
   "cell_type": "code",
   "execution_count": null,
   "metadata": {
    "collapsed": false,
    "jupyter": {
     "outputs_hidden": false
    }
   },
   "outputs": [],
   "source": [
    "image2 = npimage.copy()     # 元の画像データをコピーしてくる\n",
    "mask = image2 < 150         # 150 よりも小さい部分を抽出するマスク\n",
    "print( mask )                  # できたマスクを出力してみる \n",
    "\n",
    "image2[mask] = 0            # マスクの部分の値を 0 にする\n",
    "plt.imshow( image2, cmap='gray')  # グレースケールで表示"
   ]
  },
  {
   "cell_type": "markdown",
   "metadata": {},
   "source": [
    "## 練習5\n",
    "> $y=x^2-2x-3$ のグラフで，y<0 は 0 になるようにグラフを描いてください．"
   ]
  },
  {
   "cell_type": "code",
   "execution_count": null,
   "metadata": {
    "collapsed": false,
    "jupyter": {
     "outputs_hidden": false
    }
   },
   "outputs": [],
   "source": [
    "x = np.linspace( -10, 10, 40)\n",
    "y = "
   ]
  },
  {
   "cell_type": "markdown",
   "metadata": {},
   "source": [
    "### 練習6\n",
    "> 犬の画像を顔だけが真っ黒になるようにしてください．"
   ]
  },
  {
   "cell_type": "code",
   "execution_count": null,
   "metadata": {},
   "outputs": [],
   "source": [
    "image3 = npimage.copy()\n",
    "\n",
    "XXXX\n",
    "\n",
    "plt.imshow( YYYY, cmap='gray') "
   ]
  }
 ],
 "metadata": {
  "anaconda-cloud": {},
  "kernelspec": {
   "display_name": "Python 3",
   "language": "python",
   "name": "python3"
  },
  "language_info": {
   "codemirror_mode": {
    "name": "ipython",
    "version": 3
   },
   "file_extension": ".py",
   "mimetype": "text/x-python",
   "name": "python",
   "nbconvert_exporter": "python",
   "pygments_lexer": "ipython3",
   "version": "3.9.1"
  }
 },
 "nbformat": 4,
 "nbformat_minor": 4
}
