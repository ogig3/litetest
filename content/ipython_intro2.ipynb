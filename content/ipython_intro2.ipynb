{
 "cells": [
  {
   "cell_type": "markdown",
   "metadata": {},
   "source": [
    "# python 入門2"
   ]
  },
  {
   "cell_type": "markdown",
   "metadata": {},
   "source": [
    "## 変数とコレクション"
   ]
  },
  {
   "cell_type": "markdown",
   "metadata": {},
   "source": [
    "### print による出力"
   ]
  },
  {
   "cell_type": "code",
   "execution_count": null,
   "metadata": {},
   "outputs": [],
   "source": [
    "print(\"こんにちは\")\n",
    "print \"こんにちは\"     #こちらは python3 では使えません"
   ]
  },
  {
   "cell_type": "markdown",
   "metadata": {},
   "source": [
    "### 変数は入力するときに宣言する"
   ]
  },
  {
   "cell_type": "code",
   "execution_count": null,
   "metadata": {
    "collapsed": true,
    "jupyter": {
     "outputs_hidden": true
    }
   },
   "outputs": [],
   "source": [
    "x = 5  # int, float, str などは自動で判別してくれる "
   ]
  },
  {
   "cell_type": "code",
   "execution_count": null,
   "metadata": {},
   "outputs": [],
   "source": [
    "x"
   ]
  },
  {
   "cell_type": "code",
   "execution_count": null,
   "metadata": {},
   "outputs": [],
   "source": [
    "y      # 入力なしに変数を宣言するとエラー"
   ]
  },
  {
   "cell_type": "markdown",
   "metadata": {},
   "source": [
    "### if を使った代入"
   ]
  },
  {
   "cell_type": "code",
   "execution_count": null,
   "metadata": {},
   "outputs": [],
   "source": [
    "x = \"yahoo!\" if 3>2 else \"google\"\n",
    "print x"
   ]
  },
  {
   "cell_type": "code",
   "execution_count": null,
   "metadata": {},
   "outputs": [],
   "source": [
    "x = \"yahoo!\" if 3<2 else \"google\"\n",
    "print x"
   ]
  },
  {
   "cell_type": "markdown",
   "metadata": {},
   "source": [
    "### 練習1\n",
    "> y が3で割り切れたら \"aho\" 割り切れなかったら \"normal\" と代入する命令を書いてください．"
   ]
  },
  {
   "cell_type": "code",
   "execution_count": null,
   "metadata": {},
   "outputs": [],
   "source": [
    "y = 10\n",
    "x = XXXX if YYYYY else \"normal\"\n",
    "print( x )"
   ]
  },
  {
   "cell_type": "markdown",
   "metadata": {},
   "source": [
    "### リストによるデータ列の保存"
   ]
  },
  {
   "cell_type": "code",
   "execution_count": null,
   "metadata": {},
   "outputs": [],
   "source": [
    "li = []        # 空のリスト\n",
    "lo = [4,5,6]   # 数字の入ったリスト\n",
    "print( li )\n",
    "print( lo )"
   ]
  },
  {
   "cell_type": "markdown",
   "metadata": {},
   "source": [
    "### リストへの追加：append"
   ]
  },
  {
   "cell_type": "code",
   "execution_count": null,
   "metadata": {},
   "outputs": [],
   "source": [
    "li = []\n",
    "li.append(1)  # 1 を追加\n",
    "print( li )\n",
    "\n",
    "li.append(2)  # 2 を追加\n",
    "print( li )\n",
    "\n",
    "li.append(4)  # 3 を追加\n",
    "print( li )\n",
    "\n",
    "li.append(3)  # 4 を追加\n",
    "print( li )\n",
    "\n",
    "li.pop(3)     #pop は最後をぬきとる\n",
    "print( li )"
   ]
  },
  {
   "cell_type": "markdown",
   "metadata": {},
   "source": [
    "### リストの要素へのアクセス"
   ]
  },
  {
   "cell_type": "code",
   "execution_count": null,
   "metadata": {},
   "outputs": [],
   "source": [
    "print( li )\n",
    "print( li[0] )\n",
    "print( li[-1] )    # -1 は C など言語の配列にはない"
   ]
  },
  {
   "cell_type": "code",
   "execution_count": null,
   "metadata": {},
   "outputs": [],
   "source": [
    "print( li[4] )  # ないところにアクセスしようとすると．．．"
   ]
  },
  {
   "cell_type": "code",
   "execution_count": null,
   "metadata": {},
   "outputs": [],
   "source": [
    "li = [1,2,3,4,5,6]\n",
    "print( li )\n",
    "print( li[1:3] )     # 1番から2番まで\n",
    "print( li[2:]  )    # 2番から最後まで\n",
    "print( li[:3]  )    # 0番から2番まで\n",
    "print( li[0:5:2] )   # [start:end:step]\n",
    "print( li[::-1]  )  # 逆順"
   ]
  },
  {
   "cell_type": "markdown",
   "metadata": {},
   "source": [
    "### 練習2\n",
    "> ```li = [1,2,3,4,5,6]``` のとき， [6,5,4], [5,3,1],  [6,4,2] と出力するためには，それぞれどう書けばよいでしょうか？　"
   ]
  },
  {
   "cell_type": "code",
   "execution_count": null,
   "metadata": {},
   "outputs": [],
   "source": [
    "li=[1,2,3,4,5,6]\n",
    "print( li[XXXXX] )  # [6,5,4]\n",
    "print( li[YYYYY] )  # [5,3,1]\n",
    "print( li[ZZZZZ] )  # [6,4,2]"
   ]
  },
  {
   "cell_type": "markdown",
   "metadata": {},
   "source": [
    "### リストの削除，連結，追加"
   ]
  },
  {
   "cell_type": "code",
   "execution_count": null,
   "metadata": {},
   "outputs": [],
   "source": [
    "li = [1,2,3,4,5,6]\n",
    "print( li )\n",
    "\n",
    "del( li[2] )      # 2番目を削除（delete）\n",
    "print( li )\n",
    "\n",
    "lo = [7,8,9]\n",
    "le = li+lo     # + で追加\n",
    "print( le )\n"
   ]
  },
  {
   "cell_type": "markdown",
   "metadata": {},
   "source": [
    "### リストの情報"
   ]
  },
  {
   "cell_type": "code",
   "execution_count": null,
   "metadata": {},
   "outputs": [],
   "source": [
    "print( li )\n",
    "\n",
    "print( 1 in li  )  # 1 は li にある？　→ある(True)\n",
    "print( 10 in li )  # 10 は li にある？　→ない(False)\n",
    "\n",
    "print( len(li) )    # li の長さ(length)は？"
   ]
  },
  {
   "cell_type": "markdown",
   "metadata": {},
   "source": [
    "## 制御"
   ]
  },
  {
   "cell_type": "markdown",
   "metadata": {},
   "source": [
    "### if\n",
    "__インデント（スペース４個）が実行する単位（ブロック）です__．コロンの文字（:）を忘れずに！"
   ]
  },
  {
   "cell_type": "code",
   "execution_count": null,
   "metadata": {},
   "outputs": [],
   "source": [
    "x = 5\n",
    "if x>10:\n",
    "    print( \"xは10より大きい\" )\n",
    "elif x<10:\n",
    "    print( \"xは10より小さい\" )\n",
    "else:\n",
    "    print( \"xは10\" )"
   ]
  },
  {
   "cell_type": "markdown",
   "metadata": {},
   "source": [
    "### for\n",
    "```for``` はリストの要素について繰り返します．"
   ]
  },
  {
   "cell_type": "code",
   "execution_count": null,
   "metadata": {},
   "outputs": [],
   "source": [
    "for i in range(4):\n",
    "    print(i)"
   ]
  },
  {
   "cell_type": "code",
   "execution_count": null,
   "metadata": {},
   "outputs": [],
   "source": [
    "for animal in [\"犬\", \"ネコ\", \"ネズミ\"]:\n",
    "    print(\"%s は動物です\" % (animal))"
   ]
  },
  {
   "cell_type": "markdown",
   "metadata": {},
   "source": [
    "```range(数)``` は0から与えた数までの数字のリストを返します．"
   ]
  },
  {
   "cell_type": "code",
   "execution_count": null,
   "metadata": {},
   "outputs": [],
   "source": [
    "print( range(10) )"
   ]
  },
  {
   "cell_type": "markdown",
   "metadata": {},
   "source": [
    "これを使って for を指定した回数繰り返す命令を書くことができます．"
   ]
  },
  {
   "cell_type": "markdown",
   "metadata": {},
   "source": [
    "### 練習3\n",
    "> 0 から 10 まで出力して，その隣に 3 の倍数のときだけ \"aho\" と出力するプログラムを作ってください"
   ]
  },
  {
   "cell_type": "code",
   "execution_count": null,
   "metadata": {},
   "outputs": [],
   "source": [
    "for i in range(10):\n",
    "    print i\n",
    "    if XXXXX:\n",
    "        print'aho'\n",
    "        "
   ]
  },
  {
   "cell_type": "markdown",
   "metadata": {},
   "source": [
    "### 練習4\n",
    "> \"fdjks;a;lkajsdfk;ljdl;sa;lksjdf\" の中に a は何回出てくるかを調べるプログラムを作ってください．"
   ]
  },
  {
   "cell_type": "code",
   "execution_count": null,
   "metadata": {},
   "outputs": [],
   "source": [
    "lis = \"fdjks;a;lkajsdfk;ljdl;sa;lksjdf\"\n",
    "num=0\n",
    "for c in lis:\n",
    "   if c=='a':\n",
    "    num=XXXXXX\n",
    "print( num )"
   ]
  },
  {
   "cell_type": "markdown",
   "metadata": {},
   "source": [
    "### while\n",
    "```while``` は条件が満たされている間実行します．"
   ]
  },
  {
   "cell_type": "code",
   "execution_count": null,
   "metadata": {},
   "outputs": [],
   "source": [
    "x = 0\n",
    "while x < 4:\n",
    "    print(x)\n",
    "    x += 1  # x = x + 1　と同じ．"
   ]
  },
  {
   "cell_type": "markdown",
   "metadata": {},
   "source": [
    "```break``` を使って以下のようにも書くことができます．"
   ]
  },
  {
   "cell_type": "code",
   "execution_count": null,
   "metadata": {},
   "outputs": [],
   "source": [
    "x = 0\n",
    "while True:\n",
    "    print x\n",
    "    x = x+1\n",
    "    if x==4:\n",
    "        break   # break はループを抜ける"
   ]
  },
  {
   "cell_type": "markdown",
   "metadata": {},
   "source": [
    "### 練習5\n",
    ">  3 でも 4 でも割りきれる数を小さいものから順にリストに追加していき，リストの数が 20 個になったら終了するプログラムを書いてください．"
   ]
  },
  {
   "cell_type": "code",
   "execution_count": null,
   "metadata": {
    "collapsed": true,
    "jupyter": {
     "outputs_hidden": true
    }
   },
   "outputs": [],
   "source": [
    "li = []\n",
    "x = 0\n",
    "while True:\n",
    "    x = x+1"
   ]
  },
  {
   "cell_type": "markdown",
   "metadata": {},
   "source": [
    "## 関数"
   ]
  },
  {
   "cell_type": "markdown",
   "metadata": {},
   "source": [
    "### 関数の定義"
   ]
  },
  {
   "cell_type": "code",
   "execution_count": null,
   "metadata": {},
   "outputs": [],
   "source": [
    "def add(x,y):\n",
    "    return x+y\n",
    "\n",
    "print(\"1と2を加えると %d です\" % (add(1,2)))"
   ]
  },
  {
   "cell_type": "markdown",
   "metadata": {},
   "source": [
    "### 複数の値を返すことができます"
   ]
  },
  {
   "cell_type": "code",
   "execution_count": null,
   "metadata": {},
   "outputs": [],
   "source": [
    "def func(x):\n",
    "    return x+1, x+2\n",
    "\n",
    "p,q = func(1)\n",
    "print( p, q )"
   ]
  },
  {
   "cell_type": "markdown",
   "metadata": {},
   "source": [
    "### 関数の中の変数のスコープ（範囲）\n",
    "\n",
    "関数の外で宣言した変数（__グローバル変数__）は，関数の中でそのままでは使えません．関数の中で宣言した変数（__ローカル変数__) と区別しましょう．"
   ]
  },
  {
   "cell_type": "code",
   "execution_count": null,
   "metadata": {},
   "outputs": [],
   "source": [
    "x = 5\n",
    "\n",
    "def setX(num):\n",
    "    x = num     # ローカル変数 x はグローバル変数 x とは異なります\n",
    "    print( \"x in setX:\", x )\n",
    "\n",
    "def setGlobalX(num):\n",
    "    global x    # このように宣言するとグローバル変数が使えます．\n",
    "    print( x )\n",
    "    x=num\n",
    "    print( x )\n",
    "    \n",
    "setX(43)\n",
    "setGlobalX(6)"
   ]
  },
  {
   "cell_type": "markdown",
   "metadata": {},
   "source": [
    "他にも，ラムダ関数とかリスト内包表記とかあるけど，それはおいおいということで．"
   ]
  },
  {
   "cell_type": "markdown",
   "metadata": {},
   "source": [
    "## クラス\n",
    "\n",
    "クラスとは，データとそれを扱う関数（メソッド）をひとまとまりにしたもの．"
   ]
  },
  {
   "cell_type": "markdown",
   "metadata": {},
   "source": [
    "ゼミのメンバーを管理するクラスの場合以下のようになります．"
   ]
  },
  {
   "cell_type": "code",
   "execution_count": null,
   "metadata": {},
   "outputs": [],
   "source": [
    "class Semi:\n",
    "    \"\"\"\n",
    "    ゼミのメンバーの情報を扱うクラス\n",
    "    \"\"\"\n",
    "    \n",
    "    # __init__ はクラスを使う時に最初に呼ばれる関数（コンストラクタ）\n",
    "    def __init__(self, name):\n",
    "        # 引数 name をゼミの名前に設定する\n",
    "        self.semi_name = name\n",
    "        print(\"%s のゼミが作られました\" % (self.semi_name) )\n",
    "\n",
    "        # クラス内で使う変数には self をつけます\n",
    "        self.member_list = []  # メンバーを記録するリスト\n",
    "        \n",
    "    # 以下はメソッドの定義 面倒だが1つ目の引数に self を書くこと\n",
    "    def add_member(self, member):\n",
    "        # メンバーを追加\n",
    "        print(\"メンバーに %s を追加しました\" % member)\n",
    "        self.member_list.append( member)\n",
    "        \n",
    "    def print_member(self):\n",
    "        # メンバーのリストを表示\n",
    "        print(\"現在のメンバーを表示します\")\n",
    "        for i in self.member_list:\n",
    "            print( i )\n",
    "        \n",
    "    def get_num(self):\n",
    "        # メンバーの人数を返す\n",
    "        return len(self.member_list)\n",
    "    "
   ]
  },
  {
   "cell_type": "markdown",
   "metadata": {},
   "source": [
    "上で作ったクラスを使います．"
   ]
  },
  {
   "cell_type": "code",
   "execution_count": null,
   "metadata": {},
   "outputs": [],
   "source": [
    "# クラスからオブジェクトをつくる（インスタンス化）\n",
    "ogisemi = Semi(\"ogino\")\n",
    "\n",
    "# メソッドを使う\n",
    "ogisemi.add_member(\"平松\")\n",
    "ogisemi.add_member(\"中村\")\n",
    "ogisemi.print_member()\n",
    "\n",
    "num = ogisemi.get_num()\n",
    "print(\"荻野ゼミの現在の人数は %d 人です\" % (num))"
   ]
  },
  {
   "cell_type": "markdown",
   "metadata": {},
   "source": [
    "### 練習6\n",
    "\n",
    "> 以下のように使える長方形のクラスを作成してください．\n",
    "\n",
    "```\n",
    "rect = Rect()\n",
    "rect.set_tate(10)    # 縦の長さを設定\n",
    "rect.set_yoko(20)    # 横の長さを設定\n",
    "rect.print_menseki() # 面積を表示\n",
    "rect.print_nagasa()  # 周囲の長さを表示\n",
    "```"
   ]
  },
  {
   "cell_type": "code",
   "execution_count": null,
   "metadata": {
    "collapsed": true,
    "jupyter": {
     "outputs_hidden": true
    }
   },
   "outputs": [],
   "source": [
    "class Rect:\n",
    "    def __init__(self):\n",
    "        \n",
    "        \n",
    "    def set_tate(self, x):\n",
    "\n",
    "        \n",
    "\n",
    "######################################\n",
    "rect = Rect()\n",
    "rect.set_tate(10)    # 縦の長さを設定\n",
    "rect.set_yoko(20)    # 横の長さを設定\n",
    "rect.print_menseki() # 面積を出力\n",
    "rect.print_nagasa()  # 周囲の長さを出力"
   ]
  },
  {
   "cell_type": "markdown",
   "metadata": {},
   "source": [
    "その他，プロパティ，クラスメソッド，セッター，ゲッター等の色々な書き方があるのですが，それらは出てきた時に調べれば良いでしょう．最初は上くらいの知識で十分．"
   ]
  },
  {
   "cell_type": "markdown",
   "metadata": {},
   "source": [
    "## モジュール（ライブラリ）\n",
    "\n",
    "Python が欧米でこれだけ人気があるのは，豊富なライブラリが利用可能であるからです．"
   ]
  },
  {
   "cell_type": "code",
   "execution_count": null,
   "metadata": {},
   "outputs": [],
   "source": [
    "# モジュールの読み込みは import ライブラリ名\n",
    "import math\n",
    "print( math.sqrt(16) )"
   ]
  },
  {
   "cell_type": "code",
   "execution_count": null,
   "metadata": {},
   "outputs": [],
   "source": [
    "# モジュールから特定の関数だけを読み込むこともできます\n",
    "from math import ceil, floor\n",
    "print( ceil(3.7) )   # 小数点切り下げの関数\n",
    "print( floor(3.7) )  # 小数点切り上げの関数"
   ]
  },
  {
   "cell_type": "code",
   "execution_count": null,
   "metadata": {
    "collapsed": true,
    "jupyter": {
     "outputs_hidden": true
    }
   },
   "outputs": [],
   "source": [
    "# 以下のように，すべての関数を読み込むこともできますが，\n",
    "# 複数のモジュールを読み込んだ時に，名前がかぶってしまう\n",
    "# 可能性があるので，推奨されません\n",
    "from math import *"
   ]
  },
  {
   "cell_type": "code",
   "execution_count": null,
   "metadata": {},
   "outputs": [],
   "source": [
    "# 名前を縮めて使うこともできます．\n",
    "import math as m\n",
    "m.sqrt(16)"
   ]
  },
  {
   "cell_type": "code",
   "execution_count": null,
   "metadata": {},
   "outputs": [],
   "source": [
    "# モジュールの中で定義されている関数は dir で調べることができます．\n",
    "dir(math)"
   ]
  },
  {
   "cell_type": "markdown",
   "metadata": {},
   "source": [
    "モジュールは python のファイルです．自分でモジュールを書いて読み込むことができます．同じディレクトリに円の面積を求めるクラスを定義した \"circle.py\" というファイルを置いてあります．\n",
    "\n",
    "\"circle.py\"\n",
    "```\n",
    "# -*- coding:utf-8 -*-\n",
    "\n",
    "class Circle:\n",
    "    def __init__(self):\n",
    "        self.r = 1.0\n",
    "\n",
    "    def set_r(self, r):\n",
    "        self.r = r\n",
    "\n",
    "    def print_menseki(self):\n",
    "        r = self.r\n",
    "        print \"menseki=\", r*r*3.14\n",
    "```"
   ]
  },
  {
   "cell_type": "markdown",
   "metadata": {},
   "source": [
    "これを利用するには以下のようにします．"
   ]
  },
  {
   "cell_type": "code",
   "execution_count": null,
   "metadata": {},
   "outputs": [],
   "source": [
    "# ファイル名\"circle.py\" から Circle というクラスを読み込む\n",
    "from circle import Circle\n",
    "\n",
    "cir = Circle()\n",
    "\n",
    "cir.set_r(2.0)\n",
    "cir.print_menseki()"
   ]
  },
  {
   "cell_type": "markdown",
   "metadata": {},
   "source": [
    "ファイルを編集してリロードしたい時には\n",
    "\n",
    "```\n",
    "% run circle\n",
    "```\n",
    "\n",
    "とします．"
   ]
  },
  {
   "cell_type": "markdown",
   "metadata": {},
   "source": [
    "### 練習7\n",
    "> 正三角形を扱うクラスを定義したファイル \"triangle.py\" を作成し，以下の命令が実行できるようにしてください．\n"
   ]
  },
  {
   "cell_type": "code",
   "execution_count": null,
   "metadata": {
    "collapsed": true,
    "jupyter": {
     "outputs_hidden": true
    }
   },
   "outputs": [],
   "source": [
    "import triangle import Triangle\n",
    "\n",
    "tri = Triangle()\n",
    "tri.set_hen(2.0)\n",
    "tri.print_menseki()"
   ]
  }
 ],
 "metadata": {
  "kernelspec": {
   "display_name": "Python 3 (ipykernel)",
   "language": "python",
   "name": "python3"
  },
  "language_info": {
   "codemirror_mode": {
    "name": "ipython",
    "version": 3
   },
   "file_extension": ".py",
   "mimetype": "text/x-python",
   "name": "python",
   "nbconvert_exporter": "python",
   "pygments_lexer": "ipython3",
   "version": "3.11.5"
  }
 },
 "nbformat": 4,
 "nbformat_minor": 4
}
