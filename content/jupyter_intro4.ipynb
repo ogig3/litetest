{
 "cells": [
  {
   "cell_type": "markdown",
   "metadata": {},
   "source": [
    "# ipython 入門4"
   ]
  },
  {
   "cell_type": "markdown",
   "metadata": {},
   "source": [
    "numpy その２"
   ]
  },
  {
   "cell_type": "markdown",
   "metadata": {},
   "source": [
    "## 演算"
   ]
  },
  {
   "cell_type": "markdown",
   "metadata": {},
   "source": [
    "numpy は __行列__ や __ベクトル__ などの数字の集まりを扱いますが，\n",
    "一つの数字（ __スカラー__ ）との四則演算は簡単にできます．"
   ]
  },
  {
   "cell_type": "code",
   "execution_count": null,
   "metadata": {
    "collapsed": false,
    "jupyter": {
     "outputs_hidden": false
    }
   },
   "outputs": [],
   "source": [
    "import numpy as np\n",
    "\n",
    "a = np.array([1,2,3,4])\n",
    "\n",
    "print( a+1 )\n",
    "print( a-2 )\n",
    "print( a*3 )\n",
    "print( a/4 )      # 整数どうし割り算なので整数部分のみ\n",
    "print( a/4.0 )    # 浮動小数点との割り算なので少数まで計算\n",
    "print( a**2 )     # ２乗"
   ]
  },
  {
   "cell_type": "markdown",
   "metadata": {},
   "source": [
    "行列，ベクトルどうしの四則演算は要素ごとになります．"
   ]
  },
  {
   "cell_type": "code",
   "execution_count": null,
   "metadata": {
    "collapsed": false,
    "jupyter": {
     "outputs_hidden": false
    }
   },
   "outputs": [],
   "source": [
    "import numpy as np\n",
    "\n",
    "b = np.ones(4)*2\n",
    "\n",
    "print( \"a\", a)\n",
    "print( \"b\", b)\n",
    "print( \"a+b\", a+b )\n",
    "print( \"a*b\", a*b )"
   ]
  },
  {
   "cell_type": "markdown",
   "metadata": {},
   "source": [
    "行列の積は通常以下のように計算されますが，これを計算するには，dot を使います．\n",
    "\n",
    "$\n",
    "\\begin{pmatrix}\n",
    "   a & b\\\\\n",
    "   c & d\n",
    "\\end{pmatrix}\n",
    "\\begin{pmatrix}\n",
    "   p & q\\\\\n",
    "   r & s\n",
    "\\end{pmatrix}\n",
    "=\n",
    "\\begin{pmatrix}\n",
    "   a \\times p + b \\times r & a \\times q + b \\times s\\\\\n",
    "   c \\times q + d \\times s & c \\times q + d \\times s\n",
    "\\end{pmatrix}\n",
    "$"
   ]
  },
  {
   "cell_type": "code",
   "execution_count": null,
   "metadata": {
    "collapsed": false,
    "jupyter": {
     "outputs_hidden": false
    }
   },
   "outputs": [],
   "source": [
    "c = np.ones( (3,3) )   # 3x3 の要素がすべて1の行列\n",
    "\n",
    "print( \"c\\n\", c)\n",
    "\n",
    "print( \"c*c\\n\", c*c)             # 要素ごとの積\n",
    "print( \"c.dot(c)\\n\", c.dot(c))   # 行列の積"
   ]
  },
  {
   "cell_type": "markdown",
   "metadata": {},
   "source": [
    "## 例：回転\n",
    "回転行列 $T(\\theta)$ は\n",
    "\n",
    "$\n",
    "T(\\theta)=\n",
    "\\begin{pmatrix}\n",
    " \\cos \\theta & -\\sin \\theta \\\\\n",
    " \\sin \\theta & \\cos \\theta\n",
    "\\end{pmatrix}\n",
    "$\n",
    "\n",
    "のように書くことができます．例えば，(1,0) の点 $p$ を原点を中心に30度回転させる計算は以下のようになります．\n",
    "\n",
    "$\n",
    "T(\\pi/6) r =\n",
    "\\begin{pmatrix}\n",
    "  \\cos \\pi/6 & -\\sin \\pi/6 \\\\\n",
    "  \\sin \\pi/6 & \\cos \\pi/6\n",
    "\\end{pmatrix}\n",
    "\\begin{pmatrix}\n",
    "  1 \\\\\n",
    "  0\n",
    "\\end{pmatrix}\n",
    "=\n",
    "\\begin{pmatrix}\n",
    "  \\cos \\pi/6 \\\\\n",
    "  \\sin \\pi/6\n",
    "\\end{pmatrix}\n",
    "$\n",
    "\n",
    "(1,0) は縦ベクトルとして表現されます．また，角度は radian で表現され，$\\pi$ は 180 [deg（度）] に相当します．"
   ]
  },
  {
   "cell_type": "markdown",
   "metadata": {},
   "source": [
    "これを numpy を使って計算すると，以下のようになります．"
   ]
  },
  {
   "cell_type": "code",
   "execution_count": null,
   "metadata": {
    "collapsed": false,
    "jupyter": {
     "outputs_hidden": false
    }
   },
   "outputs": [],
   "source": [
    "p = np.array([ [1], \n",
    "               [0] ])\n",
    "\n",
    "theta = 30.0 * np.pi/180.0\n",
    "T = np.array([ [np.cos(theta), -np.sin(theta)],\n",
    "               [np.sin(theta),  np.cos(theta)]] )\n",
    "\n",
    "print( p )\n",
    "print( T )\n",
    "print( T.dot(p) )"
   ]
  },
  {
   "cell_type": "markdown",
   "metadata": {},
   "source": [
    "プロットをして，もう少し多くの点を回転させてみましょう．x軸上の (1,0), (2,0), (3,0), (4,0), (5,0) の点を 30 度回転させてみましょう．"
   ]
  },
  {
   "cell_type": "code",
   "execution_count": null,
   "metadata": {
    "collapsed": false,
    "jupyter": {
     "outputs_hidden": false
    }
   },
   "outputs": [],
   "source": [
    "%matplotlib inline\n",
    "import matplotlib.pyplot as plt\n",
    "\n",
    "x = np.array([1,2,3,4,5])    # ５点のx座標\n",
    "y = np.array([0,0,0,0,0])    # ５点のy座標\n",
    "\n",
    "plt.plot(x,y, \"o\")\n",
    "\n",
    "p = np.array([x,y])   # ５つの点を一つの行列にまとめる\n",
    "tp = T.dot(p)         # 回転!\n",
    "\n"
   ]
  },
  {
   "cell_type": "markdown",
   "metadata": {},
   "source": [
    "### 練習\n",
    "上のプログラムを改変して，以下のような図を作成してください．\n",
    "\n",
    "![](kaiten.png)"
   ]
  },
  {
   "cell_type": "code",
   "execution_count": null,
   "metadata": {
    "collapsed": false,
    "jupyter": {
     "outputs_hidden": false
    }
   },
   "outputs": [],
   "source": [
    "import numpy as np\n",
    "\n",
    "\n",
    "%matplotlib inline\n",
    "import matplotlib.pyplot as plt\n",
    "\n",
    "x = np.array([1,2,3,4,5])    # ５点のx座標\n",
    "y = np.array([0,0,0,0,0])    # ５点のy座標\n",
    "\n",
    "\n",
    "plt.plot(x,y, \"o\")\n",
    "\n",
    "p = np.array([x,y])\n",
    "\n",
    "tp = p.copy()\n",
    "for i in range(12):\n",
    "    tp=T.dot(p)\n",
    "    XXXXs\n"
   ]
  },
  {
   "cell_type": "markdown",
   "metadata": {},
   "source": [
    "## 基本的な縮約計算"
   ]
  },
  {
   "cell_type": "markdown",
   "metadata": {},
   "source": [
    "### 総和"
   ]
  },
  {
   "cell_type": "code",
   "execution_count": null,
   "metadata": {
    "collapsed": false,
    "jupyter": {
     "outputs_hidden": false
    }
   },
   "outputs": [],
   "source": [
    "# 総和\n",
    "x = np.array([1,2,3,4])\n",
    "np.sum(x)"
   ]
  },
  {
   "cell_type": "code",
   "execution_count": null,
   "metadata": {
    "collapsed": false,
    "jupyter": {
     "outputs_hidden": false
    }
   },
   "outputs": [],
   "source": [
    "# 行，列ごとの総和\n",
    "\n",
    "x = np.array([[1,2],[3,4]])\n",
    "\n",
    "print( x )\n",
    "print( x.sum(axis=0) )    # 行の方向\n",
    "print( x.sum(axis=1) )    # 列の方向"
   ]
  },
  {
   "cell_type": "markdown",
   "metadata": {},
   "source": [
    "### 最大，最小"
   ]
  },
  {
   "cell_type": "code",
   "execution_count": null,
   "metadata": {
    "collapsed": false,
    "jupyter": {
     "outputs_hidden": false
    }
   },
   "outputs": [],
   "source": [
    "x = np.array( [1,2,3,4] )\n",
    "print( \"min=\", x.min() )               # 最小値\n",
    "print( \"max=\", x.max() )               # 最大値\n",
    "print( \"index of xmin=\", x.argmin() )  # 最小値の場所\n",
    "print( \"index of xmax=\", x.argmax() )  # 最大値の場所"
   ]
  },
  {
   "cell_type": "markdown",
   "metadata": {},
   "source": [
    "### 統計"
   ]
  },
  {
   "cell_type": "markdown",
   "metadata": {},
   "source": [
    "あるテストで，以下のような成績をとりました．\n",
    "\n",
    "| | 国語 | 英語 | 数学 | 社会 | 理科 | 倫理 |\n",
    "|--| --- | --- | --- | --- | --- | --- |\n",
    "|A | 30 | 80 | 70 | 60 | 40 | 80 |\n",
    "|B | 40 | 70 | 30 | 40 | 80 | 50 |\n",
    "|C | 80 | 60 | 40 | 80 | 40| 80 |\n",
    "|D | 70 | 60 | 70 | 50 | 50 | 50 |\n",
    "\n",
    "1. 各自の平均点を求めてください．\n",
    "2. 教科ごとの平均点を求めてください．\n",
    "3. 英語で最も成績が良かったのは誰かを，argmax を使って求めてください．\n",
    "4. 合計点の成績が最も良かったのは誰かを，argmax を使って求めてください．"
   ]
  },
  {
   "cell_type": "code",
   "execution_count": null,
   "metadata": {},
   "outputs": [],
   "source": [
    "seiseki = np.array([ [30, 80, 70, 60, 40, 80],\n",
    "                     [40, 70, 30, 40, 80, 50],\n",
    "                     [80, 60, 40, 80, 40, 80],\n",
    "                     [70, 60, 70, 50, 50, 50] ])\n",
    "\n",
    "XXXX"
   ]
  },
  {
   "cell_type": "markdown",
   "metadata": {},
   "source": [
    "## 配列のシェイプ操作"
   ]
  },
  {
   "cell_type": "markdown",
   "metadata": {},
   "source": [
    "行列の行と列を入れ替える操作を__転置__といい，その操作を$T$を使って表現します．\n",
    "\n",
    "$\n",
    "\\begin{pmatrix}\n",
    " 1 & 2 \\\\\n",
    " 3 & 4\n",
    "\\end{pmatrix}\n",
    "^T\n",
    "=\n",
    "\\begin{pmatrix}\n",
    "1 & 3 \\\\\n",
    "2 & 4\n",
    "\\end{pmatrix}\n",
    "$"
   ]
  },
  {
   "cell_type": "code",
   "execution_count": null,
   "metadata": {
    "collapsed": false,
    "jupyter": {
     "outputs_hidden": false
    }
   },
   "outputs": [],
   "source": [
    "a = np.array([ [1,2], [3,4] ])\n",
    "print( a )\n",
    "print( a.T )"
   ]
  },
  {
   "cell_type": "markdown",
   "metadata": {},
   "source": [
    "### 練習\n",
    "> 犬の画像を転置してみてください．"
   ]
  },
  {
   "cell_type": "code",
   "execution_count": null,
   "metadata": {
    "collapsed": false,
    "jupyter": {
     "outputs_hidden": false
    }
   },
   "outputs": [],
   "source": [
    "import numpy as np\n",
    "from PIL import Image          # 画像を扱う PIL というパッケージを読み込み\n",
    "\n",
    "image = Image.open(\"dog.jpg\").convert('L')  # 画像を読み込み\n",
    "npimage = np.asarray(image)    # 画像を numpy の array に変換\n",
    "\n",
    "ximage = xxxxxxx\n",
    "\n",
    "plt.imshow( ximage)"
   ]
  },
  {
   "cell_type": "markdown",
   "metadata": {},
   "source": [
    "### 練習\n",
    "> 犬の白黒画像で，最も明るい点の値とその座標を求めてください．\n",
    "\n",
    "(```np.where(...)``` という調べてを使ってください)"
   ]
  },
  {
   "cell_type": "code",
   "execution_count": null,
   "metadata": {
    "collapsed": false,
    "jupyter": {
     "outputs_hidden": false
    }
   },
   "outputs": [],
   "source": [
    "image = Image.open(\"dog.jpg\").convert('L')  # 画像を白黒で読み込み\n",
    "npimage = np.asarray(image)                 # 画像を numpy の array に変換\n",
    "plt.imshow( npimage, cmap='gray')           # グレースケールで表示\n",
    "\n",
    "max_val = npimage.max()\n",
    "print(max_val)\n",
    "print(np.where(npimage==xxxxxxx))\n",
    "\n"
   ]
  },
  {
   "cell_type": "markdown",
   "metadata": {},
   "source": [
    "その他，numpy には，いろいろなツールがあるのですが，新しく出会ったら，その都度調べればよいでしょう．"
   ]
  }
 ],
 "metadata": {
  "anaconda-cloud": {},
  "kernelspec": {
   "display_name": "Python 3",
   "language": "python",
   "name": "python3"
  },
  "language_info": {
   "codemirror_mode": {
    "name": "ipython",
    "version": 3
   },
   "file_extension": ".py",
   "mimetype": "text/x-python",
   "name": "python",
   "nbconvert_exporter": "python",
   "pygments_lexer": "ipython3",
   "version": "3.9.1"
  }
 },
 "nbformat": 4,
 "nbformat_minor": 4
}
